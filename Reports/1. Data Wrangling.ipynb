{
 "cells": [
  {
   "cell_type": "markdown",
   "metadata": {},
   "source": [
    "# Data Wrangling"
   ]
  },
  {
   "cell_type": "markdown",
   "metadata": {},
   "source": [
    "The data for this project comes from a Kaggle dataset. Consequently, the data is fairly clean, and it's possible to gain some insights straight away. However, there are a few useful tweaks that can be implemented and, before moving on to the modeling, a few things need to be restructured. All of these steps are outlined below.<br>\n",
    "<br>\n",
    "For continuity, the data file is stored locally, but it can also be found here: https://www.kaggle.com/tomigelo/spotify-audio-features"
   ]
  },
  {
   "cell_type": "markdown",
   "metadata": {},
   "source": [
    "###### Features \n",
    "<br>\n",
    "As for the features, there is some basic information about each individual track like name of the song, the artist and an ID, and then each song has numerical information quantifying various musical and structural components. Finally, every observation, each being a unique track, has a score ranging from 0 to 100 based on how popular that song was at the time the date was compiled.<br>\n",
    "<br>\n",
    "More information on the audio features can be found on the Spotify API website here: <a>https://developer.spotify.com/documentation/web-api/reference/tracks/get-audio-features/</a>"
   ]
  },
  {
   "cell_type": "code",
   "execution_count": 1,
   "metadata": {},
   "outputs": [],
   "source": [
    "# Import packages\n",
    "import pandas as pd\n",
    "import numpy as np\n",
    "\n",
    "import matplotlib.pyplot as plt\n",
    "import seaborn as sns\n",
    "%matplotlib inline"
   ]
  },
  {
   "cell_type": "markdown",
   "metadata": {},
   "source": [
    "### Getting acquainted with the data"
   ]
  },
  {
   "cell_type": "markdown",
   "metadata": {},
   "source": [
    "To start, let's read in data and take a look at the structure."
   ]
  },
  {
   "cell_type": "code",
   "execution_count": 2,
   "metadata": {},
   "outputs": [
    {
     "data": {
      "text/plain": [
       "(130663, 17)"
      ]
     },
     "execution_count": 2,
     "metadata": {},
     "output_type": "execute_result"
    }
   ],
   "source": [
    "spotify = pd.read_csv('../Data/SpotifyFeatures0419.csv')\n",
    "\n",
    "spotify.shape"
   ]
  },
  {
   "cell_type": "code",
   "execution_count": 3,
   "metadata": {},
   "outputs": [
    {
     "data": {
      "text/html": [
       "<div>\n",
       "<style scoped>\n",
       "    .dataframe tbody tr th:only-of-type {\n",
       "        vertical-align: middle;\n",
       "    }\n",
       "\n",
       "    .dataframe tbody tr th {\n",
       "        vertical-align: top;\n",
       "    }\n",
       "\n",
       "    .dataframe thead th {\n",
       "        text-align: right;\n",
       "    }\n",
       "</style>\n",
       "<table border=\"1\" class=\"dataframe\">\n",
       "  <thead>\n",
       "    <tr style=\"text-align: right;\">\n",
       "      <th></th>\n",
       "      <th>artist_name</th>\n",
       "      <th>track_id</th>\n",
       "      <th>track_name</th>\n",
       "      <th>acousticness</th>\n",
       "      <th>danceability</th>\n",
       "      <th>duration_ms</th>\n",
       "      <th>energy</th>\n",
       "      <th>instrumentalness</th>\n",
       "      <th>key</th>\n",
       "      <th>liveness</th>\n",
       "      <th>loudness</th>\n",
       "      <th>mode</th>\n",
       "      <th>speechiness</th>\n",
       "      <th>tempo</th>\n",
       "      <th>time_signature</th>\n",
       "      <th>valence</th>\n",
       "      <th>popularity</th>\n",
       "    </tr>\n",
       "  </thead>\n",
       "  <tbody>\n",
       "    <tr>\n",
       "      <th>0</th>\n",
       "      <td>YG</td>\n",
       "      <td>2RM4jf1Xa9zPgMGRDiht8O</td>\n",
       "      <td>Big Bank feat. 2 Chainz, Big Sean, Nicki Minaj</td>\n",
       "      <td>0.00582</td>\n",
       "      <td>0.743</td>\n",
       "      <td>238373</td>\n",
       "      <td>0.339</td>\n",
       "      <td>0.0</td>\n",
       "      <td>1</td>\n",
       "      <td>0.0812</td>\n",
       "      <td>-7.678</td>\n",
       "      <td>1</td>\n",
       "      <td>0.409</td>\n",
       "      <td>203.927</td>\n",
       "      <td>4</td>\n",
       "      <td>0.118</td>\n",
       "      <td>15</td>\n",
       "    </tr>\n",
       "    <tr>\n",
       "      <th>1</th>\n",
       "      <td>YG</td>\n",
       "      <td>1tHDG53xJNGsItRA3vfVgs</td>\n",
       "      <td>BAND DRUM (feat. A$AP Rocky)</td>\n",
       "      <td>0.02440</td>\n",
       "      <td>0.846</td>\n",
       "      <td>214800</td>\n",
       "      <td>0.557</td>\n",
       "      <td>0.0</td>\n",
       "      <td>8</td>\n",
       "      <td>0.2860</td>\n",
       "      <td>-7.259</td>\n",
       "      <td>1</td>\n",
       "      <td>0.457</td>\n",
       "      <td>159.009</td>\n",
       "      <td>4</td>\n",
       "      <td>0.371</td>\n",
       "      <td>0</td>\n",
       "    </tr>\n",
       "  </tbody>\n",
       "</table>\n",
       "</div>"
      ],
      "text/plain": [
       "  artist_name                track_id  \\\n",
       "0          YG  2RM4jf1Xa9zPgMGRDiht8O   \n",
       "1          YG  1tHDG53xJNGsItRA3vfVgs   \n",
       "\n",
       "                                       track_name  acousticness  danceability  \\\n",
       "0  Big Bank feat. 2 Chainz, Big Sean, Nicki Minaj       0.00582         0.743   \n",
       "1                    BAND DRUM (feat. A$AP Rocky)       0.02440         0.846   \n",
       "\n",
       "   duration_ms  energy  instrumentalness  key  liveness  loudness  mode  \\\n",
       "0       238373   0.339               0.0    1    0.0812    -7.678     1   \n",
       "1       214800   0.557               0.0    8    0.2860    -7.259     1   \n",
       "\n",
       "   speechiness    tempo  time_signature  valence  popularity  \n",
       "0        0.409  203.927               4    0.118          15  \n",
       "1        0.457  159.009               4    0.371           0  "
      ]
     },
     "execution_count": 3,
     "metadata": {},
     "output_type": "execute_result"
    }
   ],
   "source": [
    "spotify.head(2)"
   ]
  },
  {
   "cell_type": "markdown",
   "metadata": {},
   "source": [
    "### Sort and re-arrange\n",
    "\n",
    "Here, to get a better understanding of the data, the info is sorted by the popularity feature. Also, the index is reset to start at 1 so that it acts as a corresponding ranking for each track. In other words, the song with the highest popularity is ranked number 1. Finally, the track_id column is dropped as it serves no purpose for analysis."
   ]
  },
  {
   "cell_type": "code",
   "execution_count": 4,
   "metadata": {},
   "outputs": [
    {
     "data": {
      "text/html": [
       "<div>\n",
       "<style scoped>\n",
       "    .dataframe tbody tr th:only-of-type {\n",
       "        vertical-align: middle;\n",
       "    }\n",
       "\n",
       "    .dataframe tbody tr th {\n",
       "        vertical-align: top;\n",
       "    }\n",
       "\n",
       "    .dataframe thead th {\n",
       "        text-align: right;\n",
       "    }\n",
       "</style>\n",
       "<table border=\"1\" class=\"dataframe\">\n",
       "  <thead>\n",
       "    <tr style=\"text-align: right;\">\n",
       "      <th></th>\n",
       "      <th>artist_name</th>\n",
       "      <th>track_name</th>\n",
       "      <th>acousticness</th>\n",
       "      <th>danceability</th>\n",
       "      <th>duration_ms</th>\n",
       "      <th>energy</th>\n",
       "      <th>instrumentalness</th>\n",
       "      <th>key</th>\n",
       "      <th>liveness</th>\n",
       "      <th>loudness</th>\n",
       "      <th>mode</th>\n",
       "      <th>speechiness</th>\n",
       "      <th>tempo</th>\n",
       "      <th>time_signature</th>\n",
       "      <th>valence</th>\n",
       "      <th>popularity</th>\n",
       "    </tr>\n",
       "  </thead>\n",
       "  <tbody>\n",
       "    <tr>\n",
       "      <th>1</th>\n",
       "      <td>Daddy Yankee</td>\n",
       "      <td>Con Calma</td>\n",
       "      <td>0.1100</td>\n",
       "      <td>0.737</td>\n",
       "      <td>193227</td>\n",
       "      <td>0.860</td>\n",
       "      <td>0.000002</td>\n",
       "      <td>8</td>\n",
       "      <td>0.0574</td>\n",
       "      <td>-2.652</td>\n",
       "      <td>0</td>\n",
       "      <td>0.0593</td>\n",
       "      <td>93.989</td>\n",
       "      <td>4</td>\n",
       "      <td>0.656</td>\n",
       "      <td>100</td>\n",
       "    </tr>\n",
       "    <tr>\n",
       "      <th>2</th>\n",
       "      <td>Post Malone</td>\n",
       "      <td>Wow.</td>\n",
       "      <td>0.1630</td>\n",
       "      <td>0.833</td>\n",
       "      <td>149520</td>\n",
       "      <td>0.539</td>\n",
       "      <td>0.000002</td>\n",
       "      <td>11</td>\n",
       "      <td>0.1010</td>\n",
       "      <td>-7.399</td>\n",
       "      <td>0</td>\n",
       "      <td>0.1780</td>\n",
       "      <td>99.947</td>\n",
       "      <td>4</td>\n",
       "      <td>0.385</td>\n",
       "      <td>98</td>\n",
       "    </tr>\n",
       "    <tr>\n",
       "      <th>3</th>\n",
       "      <td>Billie Eilish</td>\n",
       "      <td>bad guy</td>\n",
       "      <td>0.3080</td>\n",
       "      <td>0.708</td>\n",
       "      <td>194088</td>\n",
       "      <td>0.418</td>\n",
       "      <td>0.093000</td>\n",
       "      <td>0</td>\n",
       "      <td>0.1000</td>\n",
       "      <td>-10.998</td>\n",
       "      <td>1</td>\n",
       "      <td>0.3680</td>\n",
       "      <td>131.926</td>\n",
       "      <td>4</td>\n",
       "      <td>0.578</td>\n",
       "      <td>98</td>\n",
       "    </tr>\n",
       "    <tr>\n",
       "      <th>4</th>\n",
       "      <td>Post Malone</td>\n",
       "      <td>Sunflower - Spider-Man: Into the Spider-Verse</td>\n",
       "      <td>0.5200</td>\n",
       "      <td>0.744</td>\n",
       "      <td>158040</td>\n",
       "      <td>0.494</td>\n",
       "      <td>0.000000</td>\n",
       "      <td>2</td>\n",
       "      <td>0.0716</td>\n",
       "      <td>-5.563</td>\n",
       "      <td>1</td>\n",
       "      <td>0.0699</td>\n",
       "      <td>89.972</td>\n",
       "      <td>4</td>\n",
       "      <td>0.927</td>\n",
       "      <td>98</td>\n",
       "    </tr>\n",
       "    <tr>\n",
       "      <th>5</th>\n",
       "      <td>Jonas Brothers</td>\n",
       "      <td>Sucker</td>\n",
       "      <td>0.0427</td>\n",
       "      <td>0.842</td>\n",
       "      <td>181040</td>\n",
       "      <td>0.734</td>\n",
       "      <td>0.000000</td>\n",
       "      <td>1</td>\n",
       "      <td>0.1060</td>\n",
       "      <td>-5.065</td>\n",
       "      <td>0</td>\n",
       "      <td>0.0588</td>\n",
       "      <td>137.958</td>\n",
       "      <td>4</td>\n",
       "      <td>0.952</td>\n",
       "      <td>98</td>\n",
       "    </tr>\n",
       "  </tbody>\n",
       "</table>\n",
       "</div>"
      ],
      "text/plain": [
       "      artist_name                                     track_name  \\\n",
       "1    Daddy Yankee                                      Con Calma   \n",
       "2     Post Malone                                           Wow.   \n",
       "3   Billie Eilish                                        bad guy   \n",
       "4     Post Malone  Sunflower - Spider-Man: Into the Spider-Verse   \n",
       "5  Jonas Brothers                                         Sucker   \n",
       "\n",
       "   acousticness  danceability  duration_ms  energy  instrumentalness  key  \\\n",
       "1        0.1100         0.737       193227   0.860          0.000002    8   \n",
       "2        0.1630         0.833       149520   0.539          0.000002   11   \n",
       "3        0.3080         0.708       194088   0.418          0.093000    0   \n",
       "4        0.5200         0.744       158040   0.494          0.000000    2   \n",
       "5        0.0427         0.842       181040   0.734          0.000000    1   \n",
       "\n",
       "   liveness  loudness  mode  speechiness    tempo  time_signature  valence  \\\n",
       "1    0.0574    -2.652     0       0.0593   93.989               4    0.656   \n",
       "2    0.1010    -7.399     0       0.1780   99.947               4    0.385   \n",
       "3    0.1000   -10.998     1       0.3680  131.926               4    0.578   \n",
       "4    0.0716    -5.563     1       0.0699   89.972               4    0.927   \n",
       "5    0.1060    -5.065     0       0.0588  137.958               4    0.952   \n",
       "\n",
       "   popularity  \n",
       "1         100  \n",
       "2          98  \n",
       "3          98  \n",
       "4          98  \n",
       "5          98  "
      ]
     },
     "execution_count": 4,
     "metadata": {},
     "output_type": "execute_result"
    }
   ],
   "source": [
    "# Order the data by the target column and reset index to match new order\n",
    "sort_data = spotify.sort_values('popularity', ascending=False).reset_index()\n",
    "\n",
    "# The track_id is not needed and will be dropped\n",
    "# Sorting the data adds an additional index column so drop that too\n",
    "spotify_ordered = sort_data.drop(['index', 'track_id'], axis=1)\n",
    "\n",
    "# Start index at 1 to accurately see where popularities rank\n",
    "spotify_ordered.index = spotify_ordered.index + 1\n",
    "\n",
    "# Check that index 1 is the top rated song\n",
    "spotify_ordered.head(5)"
   ]
  },
  {
   "cell_type": "markdown",
   "metadata": {},
   "source": [
    "### Checking the distribution\n",
    "\n",
    "The popularity column represents the target feature, so let's see how the values are distributed"
   ]
  },
  {
   "cell_type": "code",
   "execution_count": 5,
   "metadata": {},
   "outputs": [
    {
     "data": {
      "image/png": "[encoded data removed]",
      "text/plain": [
       "<Figure size 432x288 with 1 Axes>"
      ]
     },
     "metadata": {},
     "output_type": "display_data"
    }
   ],
   "source": [
    "sns.set_style('darkgrid')\n",
    "_ = spotify_ordered['popularity'].plot(kind='hist', bins=50)\n",
    "_ = plt.xlabel('Popularity')\n",
    "_ = plt.title('Popularity Distribution', fontsize=14)"
   ]
  },
  {
   "cell_type": "markdown",
   "metadata": {},
   "source": [
    "Clearly the data is heavily dominated by songs with a popularity of zero. This intuitively makes sense, as most songs are not popular, and songs that are popular are often grouped into lists of top 40 or top 100."
   ]
  },
  {
   "cell_type": "code",
   "execution_count": 6,
   "metadata": {},
   "outputs": [
    {
     "name": "stdout",
     "output_type": "stream",
     "text": [
      "Number of songs with popularity of 0:  18889\n",
      "Percent of data with a popularity of 0: 14.46%\n"
     ]
    }
   ],
   "source": [
    "# What amount of data has popularity of zero\n",
    "so = spotify_ordered\n",
    "print('Number of songs with popularity of 0: ', len(so[so.popularity == 0]))\n",
    "print('Percent of data with a popularity of 0: {0:.2f}%'.format\\\n",
    "      (len(so[so.popularity == 0]) / len(so) * 100))"
   ]
  },
  {
   "cell_type": "markdown",
   "metadata": {},
   "source": [
    "### Drop the zeros\n",
    "\n",
    "Considering the situation further, it might make sense to drop all the songs with a popularity of zero. The barrier to getting a song on spotify is practically non-existant, so many songs might be unpopular simply because of a lack of recognition as opposed to their inherent quality. An unpopular song could theoretically have the exact same audio features as a popular song but, due to cultural factors, may not get the same airplay. Observations like these may just add noise to the data so, as a baseline, they will be removed."
   ]
  },
  {
   "cell_type": "code",
   "execution_count": 7,
   "metadata": {},
   "outputs": [
    {
     "data": {
      "text/html": [
       "<div>\n",
       "<style scoped>\n",
       "    .dataframe tbody tr th:only-of-type {\n",
       "        vertical-align: middle;\n",
       "    }\n",
       "\n",
       "    .dataframe tbody tr th {\n",
       "        vertical-align: top;\n",
       "    }\n",
       "\n",
       "    .dataframe thead th {\n",
       "        text-align: right;\n",
       "    }\n",
       "</style>\n",
       "<table border=\"1\" class=\"dataframe\">\n",
       "  <thead>\n",
       "    <tr style=\"text-align: right;\">\n",
       "      <th></th>\n",
       "      <th>artist_name</th>\n",
       "      <th>track_name</th>\n",
       "      <th>acousticness</th>\n",
       "      <th>danceability</th>\n",
       "      <th>duration_ms</th>\n",
       "      <th>energy</th>\n",
       "      <th>instrumentalness</th>\n",
       "      <th>key</th>\n",
       "      <th>liveness</th>\n",
       "      <th>loudness</th>\n",
       "      <th>mode</th>\n",
       "      <th>speechiness</th>\n",
       "      <th>tempo</th>\n",
       "      <th>time_signature</th>\n",
       "      <th>valence</th>\n",
       "      <th>popularity</th>\n",
       "    </tr>\n",
       "  </thead>\n",
       "  <tbody>\n",
       "    <tr>\n",
       "      <th>111772</th>\n",
       "      <td>Jesper Kyd</td>\n",
       "      <td>Vermintide 2 Main Theme - Chaos Version</td>\n",
       "      <td>0.126</td>\n",
       "      <td>0.424</td>\n",
       "      <td>237817</td>\n",
       "      <td>0.4070</td>\n",
       "      <td>0.9020</td>\n",
       "      <td>5</td>\n",
       "      <td>0.0941</td>\n",
       "      <td>-13.841</td>\n",
       "      <td>1</td>\n",
       "      <td>0.0646</td>\n",
       "      <td>144.027</td>\n",
       "      <td>3</td>\n",
       "      <td>0.1820</td>\n",
       "      <td>1</td>\n",
       "    </tr>\n",
       "    <tr>\n",
       "      <th>111773</th>\n",
       "      <td>Onkarswaroop</td>\n",
       "      <td>Godi Madhachi(Sapan Bhurr Zhal)</td>\n",
       "      <td>0.408</td>\n",
       "      <td>0.662</td>\n",
       "      <td>289216</td>\n",
       "      <td>0.4920</td>\n",
       "      <td>0.0148</td>\n",
       "      <td>8</td>\n",
       "      <td>0.1040</td>\n",
       "      <td>-9.850</td>\n",
       "      <td>0</td>\n",
       "      <td>0.1140</td>\n",
       "      <td>131.906</td>\n",
       "      <td>3</td>\n",
       "      <td>0.3660</td>\n",
       "      <td>1</td>\n",
       "    </tr>\n",
       "    <tr>\n",
       "      <th>111774</th>\n",
       "      <td>Toy Rock</td>\n",
       "      <td>The End</td>\n",
       "      <td>0.987</td>\n",
       "      <td>0.421</td>\n",
       "      <td>102545</td>\n",
       "      <td>0.0318</td>\n",
       "      <td>0.8070</td>\n",
       "      <td>0</td>\n",
       "      <td>0.1130</td>\n",
       "      <td>-36.149</td>\n",
       "      <td>1</td>\n",
       "      <td>0.0478</td>\n",
       "      <td>102.798</td>\n",
       "      <td>3</td>\n",
       "      <td>0.0391</td>\n",
       "      <td>1</td>\n",
       "    </tr>\n",
       "  </tbody>\n",
       "</table>\n",
       "</div>"
      ],
      "text/plain": [
       "         artist_name                               track_name  acousticness  \\\n",
       "111772    Jesper Kyd  Vermintide 2 Main Theme - Chaos Version         0.126   \n",
       "111773  Onkarswaroop          Godi Madhachi(Sapan Bhurr Zhal)         0.408   \n",
       "111774      Toy Rock                                  The End         0.987   \n",
       "\n",
       "        danceability  duration_ms  energy  instrumentalness  key  liveness  \\\n",
       "111772         0.424       237817  0.4070            0.9020    5    0.0941   \n",
       "111773         0.662       289216  0.4920            0.0148    8    0.1040   \n",
       "111774         0.421       102545  0.0318            0.8070    0    0.1130   \n",
       "\n",
       "        loudness  mode  speechiness    tempo  time_signature  valence  \\\n",
       "111772   -13.841     1       0.0646  144.027               3   0.1820   \n",
       "111773    -9.850     0       0.1140  131.906               3   0.3660   \n",
       "111774   -36.149     1       0.0478  102.798               3   0.0391   \n",
       "\n",
       "        popularity  \n",
       "111772           1  \n",
       "111773           1  \n",
       "111774           1  "
      ]
     },
     "execution_count": 7,
     "metadata": {},
     "output_type": "execute_result"
    }
   ],
   "source": [
    "# Remove zero values\n",
    "spotify_ordered = spotify_ordered[spotify_ordered.popularity > 0]\n",
    "\n",
    "# Check tail to verify no zeroes\n",
    "spotify_ordered.tail(3)"
   ]
  },
  {
   "cell_type": "code",
   "execution_count": 8,
   "metadata": {},
   "outputs": [
    {
     "data": {
      "image/png": "[encoded data removed]",
      "text/plain": [
       "<Figure size 432x288 with 1 Axes>"
      ]
     },
     "metadata": {},
     "output_type": "display_data"
    }
   ],
   "source": [
    "# Inspect new shape of data\n",
    "_ = spotify_ordered['popularity'].plot(kind='hist', bins=50)\n",
    "_ = plt.xlabel('Popularity')\n",
    "_ = plt.title('Popularity Distribution without Zeros', fontsize=14)"
   ]
  },
  {
   "cell_type": "markdown",
   "metadata": {},
   "source": [
    "Lower values still outweigh the rest, but the distribution is more balanced now."
   ]
  },
  {
   "cell_type": "markdown",
   "metadata": {},
   "source": [
    "### Checking the data types"
   ]
  },
  {
   "cell_type": "code",
   "execution_count": 9,
   "metadata": {},
   "outputs": [
    {
     "data": {
      "text/plain": [
       "artist_name          object\n",
       "track_name           object\n",
       "acousticness        float64\n",
       "danceability        float64\n",
       "duration_ms           int64\n",
       "energy              float64\n",
       "instrumentalness    float64\n",
       "key                   int64\n",
       "liveness            float64\n",
       "loudness            float64\n",
       "mode                  int64\n",
       "speechiness         float64\n",
       "tempo               float64\n",
       "time_signature        int64\n",
       "valence             float64\n",
       "popularity            int64\n",
       "dtype: object"
      ]
     },
     "execution_count": 9,
     "metadata": {},
     "output_type": "execute_result"
    }
   ],
   "source": [
    "spotify_ordered.dtypes"
   ]
  },
  {
   "cell_type": "markdown",
   "metadata": {},
   "source": [
    "Most features in the dataset are numeric but, looking closer, not all of these columns should be treated that way. For example, the mode of a song, for the purposes of this dataset, is either major or minor, and is represented by either a 0 or 1. However, major is not inherently better than minor, or vice versa. The particular mode of a song is merely a characteristic, and should not be treated ordinally. The same can be said for the key and time-signature features. Therefore, these variables should be converted into categorical features."
   ]
  },
  {
   "cell_type": "code",
   "execution_count": 15,
   "metadata": {},
   "outputs": [
    {
     "data": {
      "text/plain": [
       "artist_name           object\n",
       "track_name            object\n",
       "acousticness         float64\n",
       "danceability         float64\n",
       "duration_ms            int64\n",
       "energy               float64\n",
       "instrumentalness     float64\n",
       "key                 category\n",
       "liveness             float64\n",
       "loudness             float64\n",
       "mode                category\n",
       "speechiness          float64\n",
       "tempo                float64\n",
       "time_signature      category\n",
       "valence              float64\n",
       "popularity             int64\n",
       "dtype: object"
      ]
     },
     "execution_count": 15,
     "metadata": {},
     "output_type": "execute_result"
    }
   ],
   "source": [
    "# convert certain columns to categorical as they shouldn't \n",
    "# be treated numerically or ordinally\n",
    "spotify_ordered[['mode', 'key', 'time_signature']] = \\\n",
    "    spotify_ordered[['mode', 'key', 'time_signature']].astype('category')\n",
    "\n",
    "# Confirm new datatypes\n",
    "spotify_ordered.dtypes"
   ]
  },
  {
   "cell_type": "markdown",
   "metadata": {},
   "source": [
    "### Verifying completeness of data\n",
    "We can make sure there are no missing values using a seaborn heatmap to display any true null values."
   ]
  },
  {
   "cell_type": "code",
   "execution_count": 11,
   "metadata": {},
   "outputs": [
    {
     "data": {
      "image/png": "[encoded data removed]",
      "text/plain": [
       "<Figure size 432x288 with 2 Axes>"
      ]
     },
     "metadata": {},
     "output_type": "display_data"
    }
   ],
   "source": [
    "miss = spotify_ordered.isnull()\n",
    "\n",
    "_ = sns.heatmap(data=miss, vmin=0, vmax=1, yticklabels=False)"
   ]
  },
  {
   "cell_type": "markdown",
   "metadata": {},
   "source": [
    "All values equate to zero, meaning the null status is false"
   ]
  },
  {
   "cell_type": "markdown",
   "metadata": {},
   "source": [
    "### Regression or Classification?\n",
    "The way the target variable is set up, the data set lends itself towards a regression problem. We can further manipulate the data by using one hot encoding to allow the non-numerical variables to be used in the models.<br>\n",
    "However, for the intended stakeholders, it's not entirely necessary to be able to predict the exact popularity score. A song that scores a 90 is probably just as valuable as one that scores 97. Similarly, a song that scores a 25 is probably not worth much more than one scoring 5. Following this thought process, it's also useful to approach the problem as a classification problem. <br>\n",
    "We can create different datasets to explore both of these approaches down the road."
   ]
  },
  {
   "cell_type": "code",
   "execution_count": 16,
   "metadata": {},
   "outputs": [
    {
     "data": {
      "text/plain": [
       "(111774, 29833)"
      ]
     },
     "execution_count": 16,
     "metadata": {},
     "output_type": "execute_result"
    }
   ],
   "source": [
    "# Encode the categorical variables\n",
    "# Remove the track_name column as these values are distinct\n",
    "encoded = spotify_ordered.drop('track_name', axis=1)\n",
    "encoded = pd.get_dummies(encoded)\n",
    "\n",
    "encoded.shape"
   ]
  },
  {
   "cell_type": "code",
   "execution_count": 17,
   "metadata": {},
   "outputs": [
    {
     "data": {
      "text/html": [
       "<div>\n",
       "<style scoped>\n",
       "    .dataframe tbody tr th:only-of-type {\n",
       "        vertical-align: middle;\n",
       "    }\n",
       "\n",
       "    .dataframe tbody tr th {\n",
       "        vertical-align: top;\n",
       "    }\n",
       "\n",
       "    .dataframe thead th {\n",
       "        text-align: right;\n",
       "    }\n",
       "</style>\n",
       "<table border=\"1\" class=\"dataframe\">\n",
       "  <thead>\n",
       "    <tr style=\"text-align: right;\">\n",
       "      <th></th>\n",
       "      <th>artist_name</th>\n",
       "      <th>track_name</th>\n",
       "      <th>acousticness</th>\n",
       "      <th>danceability</th>\n",
       "      <th>duration_ms</th>\n",
       "      <th>energy</th>\n",
       "      <th>instrumentalness</th>\n",
       "      <th>key</th>\n",
       "      <th>liveness</th>\n",
       "      <th>loudness</th>\n",
       "      <th>mode</th>\n",
       "      <th>speechiness</th>\n",
       "      <th>tempo</th>\n",
       "      <th>time_signature</th>\n",
       "      <th>valence</th>\n",
       "      <th>popularity</th>\n",
       "      <th>pop_rating</th>\n",
       "    </tr>\n",
       "  </thead>\n",
       "  <tbody>\n",
       "    <tr>\n",
       "      <th>1</th>\n",
       "      <td>Daddy Yankee</td>\n",
       "      <td>Con Calma</td>\n",
       "      <td>0.1100</td>\n",
       "      <td>0.737</td>\n",
       "      <td>193227</td>\n",
       "      <td>0.860</td>\n",
       "      <td>0.000002</td>\n",
       "      <td>8</td>\n",
       "      <td>0.0574</td>\n",
       "      <td>-2.652</td>\n",
       "      <td>0</td>\n",
       "      <td>0.0593</td>\n",
       "      <td>93.989</td>\n",
       "      <td>4</td>\n",
       "      <td>0.656</td>\n",
       "      <td>100</td>\n",
       "      <td>popular</td>\n",
       "    </tr>\n",
       "    <tr>\n",
       "      <th>2</th>\n",
       "      <td>Post Malone</td>\n",
       "      <td>Wow.</td>\n",
       "      <td>0.1630</td>\n",
       "      <td>0.833</td>\n",
       "      <td>149520</td>\n",
       "      <td>0.539</td>\n",
       "      <td>0.000002</td>\n",
       "      <td>11</td>\n",
       "      <td>0.1010</td>\n",
       "      <td>-7.399</td>\n",
       "      <td>0</td>\n",
       "      <td>0.1780</td>\n",
       "      <td>99.947</td>\n",
       "      <td>4</td>\n",
       "      <td>0.385</td>\n",
       "      <td>98</td>\n",
       "      <td>popular</td>\n",
       "    </tr>\n",
       "    <tr>\n",
       "      <th>3</th>\n",
       "      <td>Billie Eilish</td>\n",
       "      <td>bad guy</td>\n",
       "      <td>0.3080</td>\n",
       "      <td>0.708</td>\n",
       "      <td>194088</td>\n",
       "      <td>0.418</td>\n",
       "      <td>0.093000</td>\n",
       "      <td>0</td>\n",
       "      <td>0.1000</td>\n",
       "      <td>-10.998</td>\n",
       "      <td>1</td>\n",
       "      <td>0.3680</td>\n",
       "      <td>131.926</td>\n",
       "      <td>4</td>\n",
       "      <td>0.578</td>\n",
       "      <td>98</td>\n",
       "      <td>popular</td>\n",
       "    </tr>\n",
       "    <tr>\n",
       "      <th>4</th>\n",
       "      <td>Post Malone</td>\n",
       "      <td>Sunflower - Spider-Man: Into the Spider-Verse</td>\n",
       "      <td>0.5200</td>\n",
       "      <td>0.744</td>\n",
       "      <td>158040</td>\n",
       "      <td>0.494</td>\n",
       "      <td>0.000000</td>\n",
       "      <td>2</td>\n",
       "      <td>0.0716</td>\n",
       "      <td>-5.563</td>\n",
       "      <td>1</td>\n",
       "      <td>0.0699</td>\n",
       "      <td>89.972</td>\n",
       "      <td>4</td>\n",
       "      <td>0.927</td>\n",
       "      <td>98</td>\n",
       "      <td>popular</td>\n",
       "    </tr>\n",
       "    <tr>\n",
       "      <th>5</th>\n",
       "      <td>Jonas Brothers</td>\n",
       "      <td>Sucker</td>\n",
       "      <td>0.0427</td>\n",
       "      <td>0.842</td>\n",
       "      <td>181040</td>\n",
       "      <td>0.734</td>\n",
       "      <td>0.000000</td>\n",
       "      <td>1</td>\n",
       "      <td>0.1060</td>\n",
       "      <td>-5.065</td>\n",
       "      <td>0</td>\n",
       "      <td>0.0588</td>\n",
       "      <td>137.958</td>\n",
       "      <td>4</td>\n",
       "      <td>0.952</td>\n",
       "      <td>98</td>\n",
       "      <td>popular</td>\n",
       "    </tr>\n",
       "  </tbody>\n",
       "</table>\n",
       "</div>"
      ],
      "text/plain": [
       "      artist_name                                     track_name  \\\n",
       "1    Daddy Yankee                                      Con Calma   \n",
       "2     Post Malone                                           Wow.   \n",
       "3   Billie Eilish                                        bad guy   \n",
       "4     Post Malone  Sunflower - Spider-Man: Into the Spider-Verse   \n",
       "5  Jonas Brothers                                         Sucker   \n",
       "\n",
       "   acousticness  danceability  duration_ms  energy  instrumentalness key  \\\n",
       "1        0.1100         0.737       193227   0.860          0.000002   8   \n",
       "2        0.1630         0.833       149520   0.539          0.000002  11   \n",
       "3        0.3080         0.708       194088   0.418          0.093000   0   \n",
       "4        0.5200         0.744       158040   0.494          0.000000   2   \n",
       "5        0.0427         0.842       181040   0.734          0.000000   1   \n",
       "\n",
       "   liveness  loudness mode  speechiness    tempo time_signature  valence  \\\n",
       "1    0.0574    -2.652    0       0.0593   93.989              4    0.656   \n",
       "2    0.1010    -7.399    0       0.1780   99.947              4    0.385   \n",
       "3    0.1000   -10.998    1       0.3680  131.926              4    0.578   \n",
       "4    0.0716    -5.563    1       0.0699   89.972              4    0.927   \n",
       "5    0.1060    -5.065    0       0.0588  137.958              4    0.952   \n",
       "\n",
       "   popularity pop_rating  \n",
       "1         100    popular  \n",
       "2          98    popular  \n",
       "3          98    popular  \n",
       "4          98    popular  \n",
       "5          98    popular  "
      ]
     },
     "execution_count": 17,
     "metadata": {},
     "output_type": "execute_result"
    }
   ],
   "source": [
    "#Create new table with a column classifying popularity ratings\n",
    "classified = spotify_ordered.copy()\n",
    "classified['pop_rating'] = ''\n",
    "\n",
    "for i, row in classified.iterrows():\n",
    "    score = 'unpopular'\n",
    "    if (row.popularity > 50) & (row.popularity < 75):\n",
    "        score = 'medium'\n",
    "    elif row.popularity >= 75:\n",
    "        score = 'popular'\n",
    "    classified.at[i, 'pop_rating'] = score\n",
    "    \n",
    "classified.head()"
   ]
  },
  {
   "cell_type": "markdown",
   "metadata": {},
   "source": [
    "Now there are three separate dataframes to experiment with:<br>\n",
    "spotify_ordered: The basic data ordered by popularity<br>\n",
    "classified: The data with an added classifier target variable<br>\n",
    "encoded: Dataframe where the catagorical variables have been encoded to numeric values"
   ]
  },
  {
   "cell_type": "markdown",
   "metadata": {},
   "source": [
    "### Count the different classifiers\n",
    "It's easy to see how rare popular songs are."
   ]
  },
  {
   "cell_type": "code",
   "execution_count": 18,
   "metadata": {},
   "outputs": [
    {
     "data": {
      "image/png": "[encoded data removed]",
      "text/plain": [
       "<Figure size 720x432 with 1 Axes>"
      ]
     },
     "metadata": {},
     "output_type": "display_data"
    }
   ],
   "source": [
    "fig, ax = plt.subplots(1,1, figsize=(10,6))\n",
    "_ = sns.countplot(x='pop_rating', data=classified)\n",
    "_ = plt.xlabel('Ratings')"
   ]
  },
  {
   "cell_type": "markdown",
   "metadata": {},
   "source": [
    "### Outliers\n",
    "Most features in the data are assigned float values based on Spotify's own proprietary analysis methods. The one exception is the duration feature, leaving the potential for large outliers. Let's visualize the distribution for these."
   ]
  },
  {
   "cell_type": "code",
   "execution_count": 19,
   "metadata": {},
   "outputs": [
    {
     "data": {
      "image/png": "[encoded data removed]",
      "text/plain": [
       "<Figure size 864x288 with 1 Axes>"
      ]
     },
     "metadata": {},
     "output_type": "display_data"
    }
   ],
   "source": [
    "fig, ax = plt.subplots(1,1, figsize=(12,4))\n",
    "_ = sns.boxplot('duration_ms', data=spotify_ordered)"
   ]
  },
  {
   "cell_type": "markdown",
   "metadata": {},
   "source": [
    "As we can see, the IQR is rather limited and there are many extreme outliers for this feature. However, these outliers aren't necessarily anomolies. It's quite possible to have a song lasting several minutes. Furthermore, duration can indeed influence popularity. Fewer people may be inclined to listen to longer songs, keeping the number of plays low. Given these reasons, it makes sense to not drop these outliers."
   ]
  }
 ],
 "metadata": {
  "kernelspec": {
   "display_name": "Python 3",
   "language": "python",
   "name": "python3"
  },
  "language_info": {
   "codemirror_mode": {
    "name": "ipython",
    "version": 3
   },
   "file_extension": ".py",
   "mimetype": "text/x-python",
   "name": "python",
   "nbconvert_exporter": "python",
   "pygments_lexer": "ipython3",
   "version": "3.7.1"
  }
 },
 "nbformat": 4,
 "nbformat_minor": 2
}
