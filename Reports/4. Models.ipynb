{
 "cells": [
  {
   "cell_type": "markdown",
   "metadata": {},
   "source": [
    "# Models and Machine Learning"
   ]
  },
  {
   "cell_type": "markdown",
   "metadata": {},
   "source": [
    "The data has been wrangled and thoroughly examined -- now to see if it can be generalized to new data."
   ]
  },
  {
   "cell_type": "markdown",
   "metadata": {},
   "source": [
    "## Load in the data and packages"
   ]
  },
  {
   "cell_type": "code",
   "execution_count": 1,
   "metadata": {},
   "outputs": [],
   "source": [
    "# Import packages\n",
    "import pandas as pd\n",
    "import numpy as np\n",
    "\n",
    "import matplotlib.pyplot as plt\n",
    "import seaborn as sns\n",
    "%matplotlib inline\n",
    "sns.set_style('darkgrid')"
   ]
  },
  {
   "cell_type": "code",
   "execution_count": 2,
   "metadata": {},
   "outputs": [],
   "source": [
    "# See data wrangling report for more details\n",
    "#load data\n",
    "spotify = pd.read_csv('../Data/SpotifyFeatures0419.csv')\n",
    "\n",
    "# Create the sorted dataframe and drop zeros\n",
    "sort_data = spotify.sort_values('popularity', ascending=False).reset_index()\n",
    "spotify_ordered = sort_data.drop(['index', 'track_id'], axis=1)\n",
    "spotify_ordered.index = spotify_ordered.index + 1\n",
    "spotify_ordered = spotify_ordered[spotify_ordered.popularity > 0]\n",
    "spotify_ordered[['mode', 'key', 'time_signature']] = \\\n",
    "    spotify_ordered[['mode', 'key', 'time_signature']].astype('category')"
   ]
  },
  {
   "cell_type": "code",
   "execution_count": 3,
   "metadata": {},
   "outputs": [],
   "source": [
    "#Create table with a column classifying popularity ratings\n",
    "classified = spotify_ordered.copy()\n",
    "classified['pop_rating'] = ''\n",
    "\n",
    "for i, row in classified.iterrows():\n",
    "    score = 'unpopular'\n",
    "    if (row.popularity > 50) & (row.popularity < 75):\n",
    "        score = 'medium'\n",
    "    elif row.popularity >= 75:\n",
    "        score = 'popular'\n",
    "    classified.at[i, 'pop_rating'] = score"
   ]
  },
  {
   "cell_type": "markdown",
   "metadata": {},
   "source": [
    "<b>Example cases</b><br>\n",
    "Here I set aside a few use case examples by removing the songs for the following artists: Shakira, Jonas Brothers, Tame Impala, and The Weeknd. This isn't necessarily a test set to verify the model performance after training. A more robust test set will be generated a little further down. This here is just a small set to hopefully help demonstrate the ability of the final model. This is a very small subset of four artists with at least one popular song representing a few different musical genres. The classified dataset is used because it contains both target variables."
   ]
  },
  {
   "cell_type": "code",
   "execution_count": 4,
   "metadata": {},
   "outputs": [],
   "source": [
    "artists = ['Shakira', 'Jonas Brothers', 'Tame Impala', 'The Weeknd']\n",
    "\n",
    "# Create a list of indices corresponding to the artists above\n",
    "# The first comprehension creates a list of lists, the second flattens it into one\n",
    "to_drop = [classified[classified.artist_name == name].index.tolist() for name in artists]\n",
    "to_drop = [ind for sub in to_drop for ind in sub]\n",
    "\n",
    "# Gather the test cases\n",
    "df_x = classified.copy()\n",
    "cases = df_x[df_x.index.isin(to_drop)]\n",
    "\n",
    "# Remove the test cases from data\n",
    "classified.drop(to_drop, inplace=True)\n",
    "spotify_ordered.drop(to_drop, inplace=True)"
   ]
  },
  {
   "cell_type": "code",
   "execution_count": 5,
   "metadata": {},
   "outputs": [
    {
     "name": "stdout",
     "output_type": "stream",
     "text": [
      "(111762, 17)\n",
      "(111762, 16)\n"
     ]
    }
   ],
   "source": [
    "print(classified.shape)\n",
    "print(spotify_ordered.shape)"
   ]
  },
  {
   "cell_type": "markdown",
   "metadata": {},
   "source": [
    "## Linear Regression\n",
    "Here I start simple with a basic linear regression model."
   ]
  },
  {
   "cell_type": "code",
   "execution_count": 6,
   "metadata": {},
   "outputs": [],
   "source": [
    "from sklearn.linear_model import LinearRegression\n",
    "from sklearn.model_selection import train_test_split\n",
    "\n",
    "# Set random state\n",
    "state=25\n",
    "\n",
    "# Shuffle the data\n",
    "reg_data = spotify_ordered.sample(frac=1, random_state=state).reset_index(drop=True)\n",
    "\n",
    "# First, try without categoricals\n",
    "X = reg_data.select_dtypes(include='number').drop('popularity', axis=1)\n",
    "y = reg_data.popularity\n",
    "\n",
    "# Split into train and test sets\n",
    "X_train, X_test, y_train, y_test = train_test_split(X, y, test_size=0.25, random_state=state)"
   ]
  },
  {
   "cell_type": "markdown",
   "metadata": {},
   "source": [
    "The data has been split into train and test sets, let's see the result out of the box."
   ]
  },
  {
   "cell_type": "code",
   "execution_count": 7,
   "metadata": {},
   "outputs": [
    {
     "data": {
      "text/plain": [
       "0.09785133473998608"
      ]
     },
     "execution_count": 7,
     "metadata": {},
     "output_type": "execute_result"
    }
   ],
   "source": [
    "# Set the regressor\n",
    "lr = LinearRegression()\n",
    "\n",
    "# Fit the train data\n",
    "lr.fit(X_train, y_train)\n",
    "\n",
    "# Check the R^2 score\n",
    "lr.score(X_test, y_test)"
   ]
  },
  {
   "cell_type": "markdown",
   "metadata": {},
   "source": [
    "The score out of the box is not spectacular. Before delving into the model itself, let's try and improve the data.<br>\n",
    "<br>\n",
    "First, we can see what happens when using the categoricals by using one hot encoding with .get_dummies(). For this step, I have decided to drop the artist_name column. While song popularity is often correlated with artist popularity, the hope is for this model to work just as well on an artist it hasn't seen before. Part of the goal is to be able to discover new talent, and that becomes more difficult if the algorithm is inclined to discredit a song just because it doesn't recognize the artist. Therefore, the column will be dropped for training purposes."
   ]
  },
  {
   "cell_type": "code",
   "execution_count": 8,
   "metadata": {},
   "outputs": [
    {
     "data": {
      "text/plain": [
       "Index(['acousticness', 'danceability', 'duration_ms', 'energy',\n",
       "       'instrumentalness', 'liveness', 'loudness', 'speechiness', 'tempo',\n",
       "       'valence', 'popularity', 'key_0', 'key_1', 'key_2', 'key_3', 'key_4',\n",
       "       'key_5', 'key_6', 'key_7', 'key_8', 'key_9', 'key_10', 'key_11',\n",
       "       'mode_0', 'mode_1', 'time_signature_0', 'time_signature_1',\n",
       "       'time_signature_3', 'time_signature_4', 'time_signature_5'],\n",
       "      dtype='object')"
      ]
     },
     "execution_count": 8,
     "metadata": {},
     "output_type": "execute_result"
    }
   ],
   "source": [
    "no_artist = reg_data.drop(['artist_name', 'track_name'], axis=1)\n",
    "df_encoded = pd.get_dummies(no_artist)\n",
    "df_encoded.columns"
   ]
  },
  {
   "cell_type": "code",
   "execution_count": 9,
   "metadata": {},
   "outputs": [
    {
     "name": "stdout",
     "output_type": "stream",
     "text": [
      "0.0993840543915483\n"
     ]
    }
   ],
   "source": [
    "# Do a new split and run a new linear model\n",
    "XX = df_encoded.drop('popularity', axis=1)\n",
    "yy = df_encoded.popularity\n",
    "\n",
    "X_train, X_test, y_train, y_test = train_test_split(XX, yy, test_size=0.25, random_state=state)\n",
    "\n",
    "lr_cat = LinearRegression()\n",
    "lr_cat.fit(X_train, y_train)\n",
    "\n",
    "print(lr_cat.score(X_test, y_test))"
   ]
  },
  {
   "cell_type": "markdown",
   "metadata": {},
   "source": [
    "The result is better, but only marginally. To help ensure this result is accurate, cross-validation can be used."
   ]
  },
  {
   "cell_type": "code",
   "execution_count": 10,
   "metadata": {},
   "outputs": [
    {
     "name": "stdout",
     "output_type": "stream",
     "text": [
      "[0.097934   0.10668441 0.09505961 0.095926   0.10660753 0.09992833]\n",
      "The mean cross-validatoin score is: 0.1004\n"
     ]
    }
   ],
   "source": [
    "from sklearn.model_selection import cross_val_score\n",
    "\n",
    "# Use the regressor from above to set up the cross_val\n",
    "cvals = cross_val_score(lr_cat, XX, yy, cv=6)\n",
    "\n",
    "# check the results\n",
    "print(cvals)\n",
    "print('The mean cross-validatoin score is: {num:.{dig}f}'.format\\\n",
    "      (num=np.mean(cvals), dig=4))"
   ]
  },
  {
   "cell_type": "markdown",
   "metadata": {},
   "source": [
    "The results are fairly similar across all of the folds, and the mean score is about the same as all of the previous results. <br>\n",
    "<br>\n",
    "This seems to indicate that plain linear regression isn't well suited for this problem, which isn't surprising. Let's try to improve on it using ridge regression."
   ]
  },
  {
   "cell_type": "markdown",
   "metadata": {},
   "source": [
    "### Ridge Regression\n",
    "Trying to improve the model via regularization."
   ]
  },
  {
   "cell_type": "code",
   "execution_count": 11,
   "metadata": {},
   "outputs": [
    {
     "name": "stdout",
     "output_type": "stream",
     "text": [
      "0.08705278469931688\n"
     ]
    }
   ],
   "source": [
    "from sklearn.linear_model import Ridge\n",
    "\n",
    "ridge = Ridge(alpha=0.5, normalize=True)\n",
    "ridge.fit(X_train, y_train)\n",
    "\n",
    "print(ridge.score(X_test, y_test))"
   ]
  },
  {
   "cell_type": "markdown",
   "metadata": {},
   "source": [
    "This first attempt is worse than basic linear regression, but we can try to improve the result with grid-search cross validation."
   ]
  },
  {
   "cell_type": "code",
   "execution_count": 12,
   "metadata": {},
   "outputs": [
    {
     "name": "stdout",
     "output_type": "stream",
     "text": [
      "{'alpha': 0.00075}\n",
      "0.10035685624500996\n"
     ]
    }
   ],
   "source": [
    "from sklearn.model_selection import GridSearchCV\n",
    "\n",
    "alphas = {'alpha': [0.0005, 0.0006, 0.00075, 0.0009, 0.001]}\n",
    "\n",
    "rg = Ridge(normalize=True)\n",
    "\n",
    "rg_cv = GridSearchCV(rg, alphas, cv=6)\n",
    "\n",
    "rg_cv.fit(XX, yy)\n",
    "\n",
    "print(rg_cv.best_params_)\n",
    "print(rg_cv.best_score_)"
   ]
  },
  {
   "cell_type": "markdown",
   "metadata": {},
   "source": [
    "The result improved, but now it's basically the same as linear regression."
   ]
  },
  {
   "cell_type": "markdown",
   "metadata": {},
   "source": [
    "<b>Plotting actual versus predicted values</b><br>\n",
    "The plot below might give a clue as to why the linear models are performing so poorly. The range of predicted values is much narrower than the actual popularity values. This makes sense when thinking about linear regressions and the plots from the data story report: the prediction is a single line through a cloud of observations, which is similar to the plot below."
   ]
  },
  {
   "cell_type": "code",
   "execution_count": 13,
   "metadata": {},
   "outputs": [
    {
     "data": {
      "image/png": "[encoded data removed]",
      "text/plain": [
       "<Figure size 576x360 with 1 Axes>"
      ]
     },
     "metadata": {
      "needs_background": "light"
     },
     "output_type": "display_data"
    }
   ],
   "source": [
    "fig = plt.subplots(figsize=(8,5))\n",
    "_ = plt.plot(list(lr_cat.predict(X_test))[:500], label='Predicted')\n",
    "_ = plt.plot(list(y_test)[:500], c='r', alpha=0.3, label='Actual')\n",
    "_ = plt.legend(loc='upper right')\n",
    "_ = plt.ylabel('Popularity', fontsize=12)\n",
    "_ = plt.title('Actual popularity vs. predicted', fontsize=14)"
   ]
  },
  {
   "cell_type": "markdown",
   "metadata": {},
   "source": [
    "## Classification"
   ]
  },
  {
   "cell_type": "markdown",
   "metadata": {},
   "source": [
    "Because the regression models are not getting the job done, the next step is to use the `classified` dataset and try a classification approach."
   ]
  },
  {
   "cell_type": "markdown",
   "metadata": {},
   "source": [
    "<b>Class imbalance</b><br>\n",
    "Before jumping into the process of training a classification model, the class imbalance needs to first be addressed. The disparity can be seen here."
   ]
  },
  {
   "cell_type": "code",
   "execution_count": 14,
   "metadata": {},
   "outputs": [
    {
     "data": {
      "image/png": "[encoded data removed]",
      "text/plain": [
       "<Figure size 576x360 with 1 Axes>"
      ]
     },
     "metadata": {
      "needs_background": "light"
     },
     "output_type": "display_data"
    }
   ],
   "source": [
    "fig, ax = plt.subplots(1,1, figsize=(8,5))\n",
    "_ = sns.countplot(x='pop_rating', data=classified)\n",
    "_ = plt.xlabel('Ratings', fontsize=14)\n",
    "_ = plt.title('Counts', fontsize=14)"
   ]
  },
  {
   "cell_type": "markdown",
   "metadata": {},
   "source": [
    "##### Creating a balanced sample for the final test set\n",
    "Instead of using a random sample for the final test set, here I manually create the test set in order to preserve the ratios of the labels.<br>\n",
    "<br>\n",
    "First, as before with the encoded dataframe from the regression model, I drop the `artist_name` column, along with `track_name`, and convert the categorical variables."
   ]
  },
  {
   "cell_type": "code",
   "execution_count": 15,
   "metadata": {},
   "outputs": [
    {
     "data": {
      "text/plain": [
       "(111762, 31)"
      ]
     },
     "execution_count": 15,
     "metadata": {},
     "output_type": "execute_result"
    }
   ],
   "source": [
    "df = classified.drop(['artist_name', 'track_name'], axis=1)\n",
    "df = pd.get_dummies(df, columns=['key', 'mode', 'time_signature'])\n",
    "df.shape"
   ]
  },
  {
   "cell_type": "markdown",
   "metadata": {},
   "source": [
    "Next, I create a separate dataframe with all the observations for each label, and then split each of those into train and test splits. All of the training splits and then all of the test splits are then stitched together so that all labels are represented in the data."
   ]
  },
  {
   "cell_type": "code",
   "execution_count": 16,
   "metadata": {},
   "outputs": [],
   "source": [
    "from sklearn.model_selection import train_test_split\n",
    "\n",
    "df_pop = df[df.pop_rating == 'popular']\n",
    "\n",
    "df_med = df[df.pop_rating == 'medium']\n",
    "\n",
    "df_unpop = df[df.pop_rating == 'unpopular']\n",
    "\n",
    "# Set random seed\n",
    "state=25\n",
    "\n",
    "X_tr_p, X_ts_p, y_tr_p, y_ts_p = train_test_split(df_pop.drop(['popularity', 'pop_rating'], axis=1),\\\n",
    "                                                 df_pop.pop_rating, test_size=0.15, random_state=state)\n",
    "\n",
    "X_tr_m, X_ts_m, y_tr_m, y_ts_m = train_test_split(df_med.drop(['popularity', 'pop_rating'], axis=1),\\\n",
    "                                                 df_med.pop_rating, test_size=0.15, random_state=state)\n",
    "\n",
    "X_tr_up, X_ts_up, y_tr_up, y_ts_up = train_test_split(df_unpop.drop(['popularity', 'pop_rating'], axis=1),\\\n",
    "                                                 df_unpop.pop_rating, test_size=0.15, random_state=state)"
   ]
  },
  {
   "cell_type": "markdown",
   "metadata": {},
   "source": [
    "Here the training splits are merged to form one training set, and then reshuffled to randomize the data. The output shows the shape of the training set."
   ]
  },
  {
   "cell_type": "code",
   "execution_count": 17,
   "metadata": {},
   "outputs": [
    {
     "data": {
      "text/plain": [
       "(94997, 30)"
      ]
     },
     "execution_count": 17,
     "metadata": {},
     "output_type": "execute_result"
    }
   ],
   "source": [
    "pop_train = pd.concat([X_tr_p, y_tr_p], axis=1)\n",
    "med_train = pd.concat([X_tr_m, y_tr_m], axis=1)\n",
    "unpop_train = pd.concat([X_tr_up, y_tr_up], axis=1)\n",
    "\n",
    "training = pd.concat([pop_train, med_train, unpop_train], axis=0)\n",
    "\n",
    "training = training.sample(frac=1, random_state=state).reset_index(drop=True)\n",
    "\n",
    "# Popularity has been removed, so only 30 columns\n",
    "training.shape"
   ]
  },
  {
   "cell_type": "markdown",
   "metadata": {},
   "source": [
    "The same process above is now executed with the final test data."
   ]
  },
  {
   "cell_type": "code",
   "execution_count": 18,
   "metadata": {},
   "outputs": [
    {
     "data": {
      "text/plain": [
       "(16765, 30)"
      ]
     },
     "execution_count": 18,
     "metadata": {},
     "output_type": "execute_result"
    }
   ],
   "source": [
    "pop_test = pd.concat([X_ts_p, y_ts_p], axis=1)\n",
    "med_test = pd.concat([X_ts_m, y_ts_m], axis=1)\n",
    "unpop_test = pd.concat([X_ts_up, y_ts_up], axis=1)\n",
    "\n",
    "final_test = pd.concat([pop_test, med_test, unpop_test], axis=0)\n",
    "\n",
    "final_test = final_test.sample(frac=1, random_state=state).reset_index(drop=True)\n",
    "\n",
    "final_test.shape"
   ]
  },
  {
   "cell_type": "markdown",
   "metadata": {},
   "source": [
    "Now we have a training set of about 95,000 observations, stored as `training`, and a test set of about 16,800 rows, stored as `final_test`. With the data split, we can now train the models using the training data."
   ]
  },
  {
   "cell_type": "markdown",
   "metadata": {},
   "source": [
    "<b> Train and validation sets</b><br>\n",
    "Before actually diving into the models, the training data needs to be further split into training and validation sets to allow testing without using the final test set."
   ]
  },
  {
   "cell_type": "code",
   "execution_count": 19,
   "metadata": {},
   "outputs": [],
   "source": [
    "X_class = training.drop('pop_rating', axis=1)\n",
    "y_class = training.pop_rating\n",
    "\n",
    "X_train, X_test, y_train, y_test = train_test_split(X_class, y_class, test_size=0.25, random_state=state)"
   ]
  },
  {
   "cell_type": "markdown",
   "metadata": {},
   "source": [
    "#### Decision Tree\n",
    "Before getting into complex ensemble methods, let's first try a simple decision tree."
   ]
  },
  {
   "cell_type": "code",
   "execution_count": 20,
   "metadata": {},
   "outputs": [
    {
     "name": "stdout",
     "output_type": "stream",
     "text": [
      "0.7930105263157895\n"
     ]
    }
   ],
   "source": [
    "from sklearn.tree import DecisionTreeClassifier\n",
    "from sklearn.metrics import accuracy_score\n",
    "\n",
    "# Basic decision tree\n",
    "dt = DecisionTreeClassifier(max_depth=20, random_state=state)\n",
    "dt.fit(X_train, y_train)\n",
    "\n",
    "pred = dt.predict(X_test)\n",
    "\n",
    "print(accuracy_score(pred, y_test))"
   ]
  },
  {
   "cell_type": "markdown",
   "metadata": {},
   "source": [
    "The accuracy score for the first try isn't bad. Now, I know that accuracy doesn't always tell the full story, especially with imbalanced data, but it's a good basic assessment to use while trying out the models before diving into precision and recall. With that in mind, let's try some parameter tuning in order to improve the accuracy."
   ]
  },
  {
   "cell_type": "code",
   "execution_count": 30,
   "metadata": {},
   "outputs": [
    {
     "name": "stdout",
     "output_type": "stream",
     "text": [
      "{'max_depth': 2, 'min_samples_leaf': 1}\n",
      "0.8571218038464372\n"
     ]
    }
   ],
   "source": [
    "params = {'max_depth': [2, 10, 20, 40, 50],\n",
    "         'min_samples_leaf': np.arange(1,10,2),}\n",
    "\n",
    "dt = DecisionTreeClassifier(random_state=state)\n",
    "\n",
    "dt_cv = GridSearchCV(dt, params, cv=6)\n",
    "\n",
    "dt_cv.fit(X_class, y_class)\n",
    "\n",
    "print(dt_cv.best_params_)\n",
    "print(dt_cv.best_score_)"
   ]
  },
  {
   "cell_type": "markdown",
   "metadata": {},
   "source": [
    "Adjusting the params grid to re-test the edges."
   ]
  },
  {
   "cell_type": "code",
   "execution_count": 31,
   "metadata": {},
   "outputs": [
    {
     "name": "stdout",
     "output_type": "stream",
     "text": [
      "{'max_depth': 2, 'min_samples_leaf': 1}\n",
      "0.8571218038464372\n"
     ]
    }
   ],
   "source": [
    "params = {'max_depth': [2, 3, 4],\n",
    "         'min_samples_leaf': np.arange(1,4)}\n",
    "\n",
    "dt_cv = GridSearchCV(dt, params, cv=6)\n",
    "\n",
    "dt_cv.fit(X_class, y_class)\n",
    "\n",
    "print(dt_cv.best_params_)\n",
    "print(dt_cv.best_score_)"
   ]
  },
  {
   "cell_type": "markdown",
   "metadata": {},
   "source": [
    "#### Bagging\n",
    "The decision tree model seems to have maxed out, so let's try increasing the complexity by using bagging."
   ]
  },
  {
   "cell_type": "code",
   "execution_count": 37,
   "metadata": {},
   "outputs": [
    {
     "name": "stdout",
     "output_type": "stream",
     "text": [
      "0.8585263157894737\n"
     ]
    }
   ],
   "source": [
    "from sklearn.ensemble import BaggingClassifier\n",
    "\n",
    "tree = DecisionTreeClassifier(max_depth=2, random_state=state)\n",
    "bc = BaggingClassifier(base_estimator=tree, n_estimators=200, random_state=state)\n",
    "\n",
    "bc.fit(X_train, y_train)\n",
    "\n",
    "b_pred = bc.predict(X_test)\n",
    "\n",
    "print(accuracy_score(b_pred, y_test))"
   ]
  },
  {
   "cell_type": "markdown",
   "metadata": {},
   "source": [
    "The improvement is marginal. Instead of spending a lot of time trying to tweak the base estimator to try and improve this model, I think it would be a better use of time to move to a different model."
   ]
  },
  {
   "cell_type": "markdown",
   "metadata": {},
   "source": [
    "#### Random Forest"
   ]
  },
  {
   "cell_type": "code",
   "execution_count": 38,
   "metadata": {},
   "outputs": [
    {
     "name": "stdout",
     "output_type": "stream",
     "text": [
      "0.8606736842105264\n"
     ]
    }
   ],
   "source": [
    "from sklearn.ensemble import RandomForestClassifier\n",
    "\n",
    "rf = RandomForestClassifier(n_estimators=100, random_state=state)\n",
    "rf.fit(X_train, y_train)\n",
    "\n",
    "rf_pred = rf.predict(X_test)\n",
    "\n",
    "print(accuracy_score(rf_pred, y_test))"
   ]
  },
  {
   "cell_type": "markdown",
   "metadata": {},
   "source": [
    "Getting closer. Let's do some fine tuning via grid-search cross validation."
   ]
  },
  {
   "cell_type": "code",
   "execution_count": 39,
   "metadata": {},
   "outputs": [
    {
     "name": "stdout",
     "output_type": "stream",
     "text": [
      "{'max_depth': 100, 'min_samples_leaf': 1, 'n_estimators': 300}\n"
     ]
    }
   ],
   "source": [
    "rf_params = {'n_estimators': [100, 300, 500],\n",
    "            'max_depth': [2, 5, 20, 100],\n",
    "            'min_samples_leaf': [1, 2, 5]}\n",
    "\n",
    "rf_new = RandomForestClassifier(random_state=state)\n",
    "\n",
    "rf_cv = GridSearchCV(rf_new, rf_params, n_jobs=-1, cv=6)\n",
    "\n",
    "rf_cv.fit(X_train, y_train)\n",
    "\n",
    "print(rf_cv.best_params_)"
   ]
  },
  {
   "cell_type": "markdown",
   "metadata": {},
   "source": [
    "Now run it with the updated parameters."
   ]
  },
  {
   "cell_type": "code",
   "execution_count": 40,
   "metadata": {},
   "outputs": [
    {
     "name": "stdout",
     "output_type": "stream",
     "text": [
      "0.8608421052631579\n"
     ]
    }
   ],
   "source": [
    "rf = RandomForestClassifier(max_depth=100, n_estimators=300, min_samples_leaf=1, random_state=state)\n",
    "\n",
    "rf.fit(X_train, y_train)\n",
    "\n",
    "rf_pred = rf.predict(X_test)\n",
    "\n",
    "print(accuracy_score(rf_pred, y_test))"
   ]
  },
  {
   "cell_type": "markdown",
   "metadata": {},
   "source": [
    "The increase in accuracy is negligible. "
   ]
  },
  {
   "cell_type": "markdown",
   "metadata": {},
   "source": [
    "#### Boosting\n",
    "Let's also try boosting to see if the model improves when running sequentially."
   ]
  },
  {
   "cell_type": "code",
   "execution_count": 50,
   "metadata": {},
   "outputs": [
    {
     "name": "stdout",
     "output_type": "stream",
     "text": [
      "0.8584421052631579\n",
      "Wall time: 30.4 s\n"
     ]
    }
   ],
   "source": [
    "%%time\n",
    "\n",
    "from sklearn.ensemble import AdaBoostClassifier\n",
    "\n",
    "dt_b = DecisionTreeClassifier(max_depth=1, random_state=state)\n",
    "\n",
    "adb = AdaBoostClassifier(base_estimator=dt_b, n_estimators=200)\n",
    "\n",
    "adb.fit(X_train, y_train)\n",
    "\n",
    "adb_pred = adb.predict(X_test)\n",
    "\n",
    "print(accuracy_score(adb_pred, y_test))"
   ]
  },
  {
   "cell_type": "code",
   "execution_count": 52,
   "metadata": {},
   "outputs": [
    {
     "name": "stdout",
     "output_type": "stream",
     "text": [
      "0.8581894736842105\n",
      "Wall time: 50.9 s\n"
     ]
    }
   ],
   "source": [
    "%%time\n",
    "\n",
    "from sklearn.ensemble import GradientBoostingClassifier\n",
    "\n",
    "gb = GradientBoostingClassifier(max_depth=3, n_estimators=200, random_state=state)\n",
    "\n",
    "gb.fit(X_train, y_train)\n",
    "\n",
    "gb_pred = gb.predict(X_test)\n",
    "\n",
    "print(accuracy_score(gb_pred, y_test))"
   ]
  },
  {
   "cell_type": "markdown",
   "metadata": {},
   "source": [
    "The results are more or less the same with AdaBoost and gradient boosting, and are a slight down grade from random forest.<br>\n",
    "<br>\n",
    "The accuracy seems to have plateaued, so it's time to dig in to some other metrics."
   ]
  },
  {
   "cell_type": "markdown",
   "metadata": {},
   "source": [
    "#### Confusion matrix\n",
    "More important than plain accuracy, the real value of this project is the ability to predict popular songs. This can be tested through a confusion matrix."
   ]
  },
  {
   "cell_type": "code",
   "execution_count": 54,
   "metadata": {},
   "outputs": [
    {
     "data": {
      "text/plain": [
       "array([[    7,     2,  3133],\n",
       "       [    0,     0,   218],\n",
       "       [    6,     9, 20375]], dtype=int64)"
      ]
     },
     "execution_count": 54,
     "metadata": {},
     "output_type": "execute_result"
    }
   ],
   "source": [
    "from sklearn.metrics import confusion_matrix\n",
    "\n",
    "confusion_matrix(y_test, gb_pred)"
   ]
  },
  {
   "cell_type": "markdown",
   "metadata": {},
   "source": [
    "For the gradient boosting model, the result is pretty poor. The minority class, popularity, had zero true positives. Even with a decent accuracy, the model really failed in its true purpose."
   ]
  },
  {
   "cell_type": "code",
   "execution_count": 55,
   "metadata": {},
   "outputs": [
    {
     "data": {
      "text/plain": [
       "array([[   69,     0,  3073],\n",
       "       [    4,     5,   209],\n",
       "       [   16,     3, 20371]], dtype=int64)"
      ]
     },
     "execution_count": 55,
     "metadata": {},
     "output_type": "execute_result"
    }
   ],
   "source": [
    "confusion_matrix(y_test, rf_pred)"
   ]
  },
  {
   "cell_type": "markdown",
   "metadata": {},
   "source": [
    "The matrix for random forest is a bit better but not by much."
   ]
  },
  {
   "cell_type": "code",
   "execution_count": 56,
   "metadata": {},
   "outputs": [
    {
     "data": {
      "text/plain": [
       "array([[    0,     0,  3142],\n",
       "       [    0,     0,   218],\n",
       "       [    2,     0, 20388]], dtype=int64)"
      ]
     },
     "execution_count": 56,
     "metadata": {},
     "output_type": "execute_result"
    }
   ],
   "source": [
    "confusion_matrix(y_test, adb_pred)"
   ]
  },
  {
   "cell_type": "markdown",
   "metadata": {},
   "source": [
    "The AdaBoost model pretty much predicted everything as unpopular.<br>\n",
    "<br>\n",
    "The random forest model seems to have performed the best of all the models tried."
   ]
  },
  {
   "cell_type": "markdown",
   "metadata": {},
   "source": [
    "#### Class weights\n",
    "Let's see if we can make some improvements by adjusting the weights applied to the class labels. By applying larger weights to the minority classes, the idea is that the model will give those labels more emphasis. This way, we can direct the model to focus more on producing true positives for the class of interest.<br>\n",
    "I will first apply this to the bagging model to see if any improvements are made."
   ]
  },
  {
   "cell_type": "code",
   "execution_count": 59,
   "metadata": {},
   "outputs": [
    {
     "name": "stdout",
     "output_type": "stream",
     "text": [
      "0.4744842105263158\n"
     ]
    }
   ],
   "source": [
    "dt_bal = DecisionTreeClassifier(max_depth=2, class_weight='balanced', random_state=state)\n",
    "bc_bal = BaggingClassifier(base_estimator=dt_bal, n_estimators=200)\n",
    "\n",
    "bc_bal.fit(X_train, y_train)\n",
    "\n",
    "bcb_p = bc_bal.predict(X_test)\n",
    "\n",
    "print(accuracy_score(bcb_p, y_test))\n"
   ]
  },
  {
   "cell_type": "code",
   "execution_count": 60,
   "metadata": {},
   "outputs": [
    {
     "data": {
      "text/plain": [
       "array([[  664,  1602,   876],\n",
       "       [   48,   149,    21],\n",
       "       [ 3262,  6672, 10456]], dtype=int64)"
      ]
     },
     "execution_count": 60,
     "metadata": {},
     "output_type": "execute_result"
    }
   ],
   "source": [
    "confusion_matrix(y_test, bcb_p)"
   ]
  },
  {
   "cell_type": "markdown",
   "metadata": {},
   "source": [
    "Re-running bagging with balanced weights, the accuracy is much worse, but the recall is greatly improved. Encouraginly, the majority of the popular songs were predicted correctly, which is most important. Unfortunately, there are 6600 false positives from the unpopular class to sift through now."
   ]
  },
  {
   "cell_type": "code",
   "execution_count": 68,
   "metadata": {},
   "outputs": [
    {
     "name": "stdout",
     "output_type": "stream",
     "text": [
      "              precision    recall  f1-score   support\n",
      "\n",
      "      medium       0.17      0.21      0.19      3142\n",
      "     popular       0.02      0.68      0.03       218\n",
      "   unpopular       0.92      0.51      0.66     20390\n",
      "\n",
      "   micro avg       0.47      0.47      0.47     23750\n",
      "   macro avg       0.37      0.47      0.29     23750\n",
      "weighted avg       0.81      0.47      0.59     23750\n",
      "\n"
     ]
    }
   ],
   "source": [
    "from sklearn.metrics import classification_report\n",
    "\n",
    "print(classification_report(y_test, bcb_p, np.unique(y_test)))"
   ]
  },
  {
   "cell_type": "markdown",
   "metadata": {},
   "source": [
    "Using the above chart helps understand how well the model really worked. Of the 218 popular observations, 149 were correctly for a recall of 68%. However, of the thousands of observations predicted as popular, only 149 truly were, leading to a precision of only 2% and an F1-score of only 0.03. <br>\n",
    "<br>\n",
    "Let's re-run random forest and AdaBoost now with the balanced weights to see if further improvement is possible."
   ]
  },
  {
   "cell_type": "code",
   "execution_count": 82,
   "metadata": {},
   "outputs": [
    {
     "data": {
      "text/plain": [
       "array([ 2.47540129, 38.36672052,  0.38911099])"
      ]
     },
     "execution_count": 82,
     "metadata": {},
     "output_type": "execute_result"
    }
   ],
   "source": [
    "from sklearn.utils import class_weight\n",
    "class_weight.compute_class_weight(class_weight='balanced', classes=np.unique(y_train), y=y_train)"
   ]
  },
  {
   "cell_type": "markdown",
   "metadata": {},
   "source": [
    "Try overcompensating the weight for the popular label."
   ]
  },
  {
   "cell_type": "code",
   "execution_count": 78,
   "metadata": {},
   "outputs": [
    {
     "name": "stdout",
     "output_type": "stream",
     "text": [
      "0.8608421052631579\n"
     ]
    }
   ],
   "source": [
    "rf_b = RandomForestClassifier(max_depth=100, n_estimators=300, min_samples_leaf=1,\\\n",
    "                            class_weight={'medium': 2.475, 'popular': 100, 'unpopular': 1}, random_state=state)\n",
    "\n",
    "rf_b.fit(X_train, y_train)\n",
    "\n",
    "rfb_p = rf_b.predict(X_test)\n",
    "\n",
    "print(accuracy_score(rf_pred, y_test))"
   ]
  },
  {
   "cell_type": "code",
   "execution_count": 80,
   "metadata": {},
   "outputs": [
    {
     "name": "stdout",
     "output_type": "stream",
     "text": [
      "[[   66     0  3076]\n",
      " [    4     5   209]\n",
      " [   15     1 20374]]\n"
     ]
    }
   ],
   "source": [
    "print(confusion_matrix(y_test, rfb_p))"
   ]
  },
  {
   "cell_type": "code",
   "execution_count": 81,
   "metadata": {},
   "outputs": [
    {
     "name": "stdout",
     "output_type": "stream",
     "text": [
      "              precision    recall  f1-score   support\n",
      "\n",
      "      medium       0.78      0.02      0.04      3142\n",
      "     popular       0.83      0.02      0.04       218\n",
      "   unpopular       0.86      1.00      0.93     20390\n",
      "\n",
      "   micro avg       0.86      0.86      0.86     23750\n",
      "   macro avg       0.82      0.35      0.34     23750\n",
      "weighted avg       0.85      0.86      0.80     23750\n",
      "\n"
     ]
    }
   ],
   "source": [
    "print(classification_report(y_test, rfb_p, np.unique(y_test)))"
   ]
  },
  {
   "cell_type": "markdown",
   "metadata": {},
   "source": [
    "Less than ideal results. The confusion matrix has shifted back towards higher precision at the cost of predicting fewer popular songs correctly.<br>\n",
    "<br>\n",
    "Now with boosting."
   ]
  },
  {
   "cell_type": "code",
   "execution_count": 89,
   "metadata": {},
   "outputs": [
    {
     "name": "stdout",
     "output_type": "stream",
     "text": [
      "0.7551578947368421\n"
     ]
    }
   ],
   "source": [
    "dt_bal = DecisionTreeClassifier(max_depth=2,\\\n",
    "                                class_weight={'medium': 2.475, 'popular': 150, 'unpopular': 1},\\\n",
    "                                random_state=state)\n",
    "\n",
    "ad_bal = AdaBoostClassifier(base_estimator=dt_bal, n_estimators=200)\n",
    "\n",
    "ad_bal.fit(X_train, y_train)\n",
    "\n",
    "ad_bal_p = ad_bal.predict(X_test)\n",
    "\n",
    "print(accuracy_score(ad_bal_p, y_test))"
   ]
  },
  {
   "cell_type": "code",
   "execution_count": 90,
   "metadata": {},
   "outputs": [
    {
     "data": {
      "text/plain": [
       "array([[  210,   665,  2267],\n",
       "       [   20,    86,   112],\n",
       "       [  675,  2076, 17639]], dtype=int64)"
      ]
     },
     "execution_count": 90,
     "metadata": {},
     "output_type": "execute_result"
    }
   ],
   "source": [
    "confusion_matrix(y_test, ad_bal_p)"
   ]
  },
  {
   "cell_type": "code",
   "execution_count": 91,
   "metadata": {},
   "outputs": [
    {
     "name": "stdout",
     "output_type": "stream",
     "text": [
      "              precision    recall  f1-score   support\n",
      "\n",
      "      medium       0.23      0.07      0.10      3142\n",
      "     popular       0.03      0.39      0.06       218\n",
      "   unpopular       0.88      0.87      0.87     20390\n",
      "\n",
      "   micro avg       0.76      0.76      0.76     23750\n",
      "   macro avg       0.38      0.44      0.34     23750\n",
      "weighted avg       0.79      0.76      0.76     23750\n",
      "\n"
     ]
    }
   ],
   "source": [
    "print(classification_report(y_test, ad_bal_p, np.unique(y_test)))"
   ]
  },
  {
   "cell_type": "markdown",
   "metadata": {},
   "source": [
    "These results are a little better than the ones for random forest, but it would be nice if the model predicted more popular songs. <br>\n",
    "<br>\n",
    "We could continue playing with the class weights to try and improve the F1-score, but as it stands now, I think the bagging model best achieves it's goal. It's ultimately up to the stake holder, but the fact that the bagging model does the best at predicting popular songs is key, in my opinion. The performance likely isn't ideal, but for someone trying to sift through songs to pick out the best candidates, it's better to have to deal with only a few thousand as opposed to tens of thousands. Also, if the new batch of songs to comb through is only in the hundreds, then narrowing that down by 80-90% makes the task quite manageable."
   ]
  },
  {
   "cell_type": "code",
   "execution_count": null,
   "metadata": {},
   "outputs": [],
   "source": []
  }
 ],
 "metadata": {
  "kernelspec": {
   "display_name": "Python 3",
   "language": "python",
   "name": "python3"
  },
  "language_info": {
   "codemirror_mode": {
    "name": "ipython",
    "version": 3
   },
   "file_extension": ".py",
   "mimetype": "text/x-python",
   "name": "python",
   "nbconvert_exporter": "python",
   "pygments_lexer": "ipython3",
   "version": "3.7.1"
  }
 },
 "nbformat": 4,
 "nbformat_minor": 2
}
