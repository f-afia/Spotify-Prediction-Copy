{
 "cells": [
  {
   "cell_type": "markdown",
   "metadata": {},
   "source": [
    "# Statistical Inference"
   ]
  },
  {
   "cell_type": "markdown",
   "metadata": {},
   "source": [
    "Exploring the data further by examining the statistical trends."
   ]
  },
  {
   "cell_type": "markdown",
   "metadata": {},
   "source": [
    "### Load in the data and packages"
   ]
  },
  {
   "cell_type": "code",
   "execution_count": 2,
   "metadata": {},
   "outputs": [],
   "source": [
    "# Import packages\n",
    "import pandas as pd\n",
    "import numpy as np\n",
    "\n",
    "import matplotlib.pyplot as plt\n",
    "import seaborn as sns\n",
    "%matplotlib inline\n",
    "sns.set_style('darkgrid')"
   ]
  },
  {
   "cell_type": "code",
   "execution_count": 3,
   "metadata": {},
   "outputs": [],
   "source": [
    "# See data wrangling report for more details\n",
    "#load data\n",
    "spotify = pd.read_csv('../Data/SpotifyFeatures0419.csv')\n",
    "\n",
    "# Create the sorted dataframe and drop zeros\n",
    "sort_data = spotify.sort_values('popularity', ascending=False).reset_index()\n",
    "spotify_ordered = sort_data.drop(['index', 'track_id'], axis=1)\n",
    "spotify_ordered.index = spotify_ordered.index + 1\n",
    "spotify_ordered = spotify_ordered[spotify_ordered.popularity > 0]\n",
    "spotify_ordered[['mode', 'key', 'time_signature']] = \\\n",
    "    spotify_ordered[['mode', 'key', 'time_signature']].astype('category')"
   ]
  },
  {
   "cell_type": "code",
   "execution_count": 4,
   "metadata": {},
   "outputs": [],
   "source": [
    "#Create table with a column classifying popularity ratings\n",
    "classified = spotify_ordered.copy()\n",
    "classified['pop_rating'] = ''\n",
    "\n",
    "for i, row in classified.iterrows():\n",
    "    score = 'unpopular'\n",
    "    if (row.popularity > 50) & (row.popularity < 75):\n",
    "        score = 'medium'\n",
    "    elif row.popularity >= 75:\n",
    "        score = 'popular'\n",
    "    classified.at[i, 'pop_rating'] = score"
   ]
  },
  {
   "cell_type": "markdown",
   "metadata": {},
   "source": [
    "## Statistical moments"
   ]
  },
  {
   "cell_type": "markdown",
   "metadata": {},
   "source": [
    "To begin, using the pandas .describe() method can give general statistical points of reference for each feature in the dataset. This is useful for a quick check on the mean, range and other points of interest."
   ]
  },
  {
   "cell_type": "code",
   "execution_count": 6,
   "metadata": {},
   "outputs": [
    {
     "data": {
      "text/html": [
       "<div>\n",
       "<style scoped>\n",
       "    .dataframe tbody tr th:only-of-type {\n",
       "        vertical-align: middle;\n",
       "    }\n",
       "\n",
       "    .dataframe tbody tr th {\n",
       "        vertical-align: top;\n",
       "    }\n",
       "\n",
       "    .dataframe thead th {\n",
       "        text-align: right;\n",
       "    }\n",
       "</style>\n",
       "<table border=\"1\" class=\"dataframe\">\n",
       "  <thead>\n",
       "    <tr style=\"text-align: right;\">\n",
       "      <th></th>\n",
       "      <th>acousticness</th>\n",
       "      <th>danceability</th>\n",
       "      <th>duration_ms</th>\n",
       "      <th>energy</th>\n",
       "      <th>instrumentalness</th>\n",
       "      <th>liveness</th>\n",
       "      <th>loudness</th>\n",
       "      <th>speechiness</th>\n",
       "      <th>tempo</th>\n",
       "      <th>valence</th>\n",
       "      <th>popularity</th>\n",
       "    </tr>\n",
       "  </thead>\n",
       "  <tbody>\n",
       "    <tr>\n",
       "      <th>count</th>\n",
       "      <td>111774.000000</td>\n",
       "      <td>111774.000000</td>\n",
       "      <td>1.117740e+05</td>\n",
       "      <td>111774.000000</td>\n",
       "      <td>111774.000000</td>\n",
       "      <td>111774.000000</td>\n",
       "      <td>111774.000000</td>\n",
       "      <td>111774.000000</td>\n",
       "      <td>111774.000000</td>\n",
       "      <td>111774.000000</td>\n",
       "      <td>111774.000000</td>\n",
       "    </tr>\n",
       "    <tr>\n",
       "      <th>mean</th>\n",
       "      <td>0.344021</td>\n",
       "      <td>0.577959</td>\n",
       "      <td>2.155524e+05</td>\n",
       "      <td>0.569467</td>\n",
       "      <td>0.206224</td>\n",
       "      <td>0.194912</td>\n",
       "      <td>-9.831834</td>\n",
       "      <td>0.111265</td>\n",
       "      <td>119.474240</td>\n",
       "      <td>0.435165</td>\n",
       "      <td>28.300132</td>\n",
       "    </tr>\n",
       "    <tr>\n",
       "      <th>std</th>\n",
       "      <td>0.347000</td>\n",
       "      <td>0.188435</td>\n",
       "      <td>1.197277e+05</td>\n",
       "      <td>0.260992</td>\n",
       "      <td>0.348923</td>\n",
       "      <td>0.167262</td>\n",
       "      <td>6.545899</td>\n",
       "      <td>0.123257</td>\n",
       "      <td>30.155886</td>\n",
       "      <td>0.255739</td>\n",
       "      <td>18.398418</td>\n",
       "    </tr>\n",
       "    <tr>\n",
       "      <th>min</th>\n",
       "      <td>0.000000</td>\n",
       "      <td>0.000000</td>\n",
       "      <td>1.314700e+04</td>\n",
       "      <td>0.000000</td>\n",
       "      <td>0.000000</td>\n",
       "      <td>0.000000</td>\n",
       "      <td>-60.000000</td>\n",
       "      <td>0.000000</td>\n",
       "      <td>0.000000</td>\n",
       "      <td>0.000000</td>\n",
       "      <td>1.000000</td>\n",
       "    </tr>\n",
       "    <tr>\n",
       "      <th>25%</th>\n",
       "      <td>0.032600</td>\n",
       "      <td>0.454000</td>\n",
       "      <td>1.677672e+05</td>\n",
       "      <td>0.395000</td>\n",
       "      <td>0.000000</td>\n",
       "      <td>0.097500</td>\n",
       "      <td>-11.609000</td>\n",
       "      <td>0.038800</td>\n",
       "      <td>95.899750</td>\n",
       "      <td>0.222000</td>\n",
       "      <td>14.000000</td>\n",
       "    </tr>\n",
       "    <tr>\n",
       "      <th>50%</th>\n",
       "      <td>0.203000</td>\n",
       "      <td>0.599000</td>\n",
       "      <td>2.036045e+05</td>\n",
       "      <td>0.606000</td>\n",
       "      <td>0.000094</td>\n",
       "      <td>0.124000</td>\n",
       "      <td>-7.785000</td>\n",
       "      <td>0.055500</td>\n",
       "      <td>120.014000</td>\n",
       "      <td>0.415000</td>\n",
       "      <td>26.000000</td>\n",
       "    </tr>\n",
       "    <tr>\n",
       "      <th>75%</th>\n",
       "      <td>0.642000</td>\n",
       "      <td>0.722000</td>\n",
       "      <td>2.425312e+05</td>\n",
       "      <td>0.777000</td>\n",
       "      <td>0.287000</td>\n",
       "      <td>0.237000</td>\n",
       "      <td>-5.580000</td>\n",
       "      <td>0.128000</td>\n",
       "      <td>139.869000</td>\n",
       "      <td>0.630000</td>\n",
       "      <td>41.000000</td>\n",
       "    </tr>\n",
       "    <tr>\n",
       "      <th>max</th>\n",
       "      <td>0.996000</td>\n",
       "      <td>0.996000</td>\n",
       "      <td>5.040048e+06</td>\n",
       "      <td>1.000000</td>\n",
       "      <td>1.000000</td>\n",
       "      <td>0.999000</td>\n",
       "      <td>1.806000</td>\n",
       "      <td>0.966000</td>\n",
       "      <td>249.983000</td>\n",
       "      <td>1.000000</td>\n",
       "      <td>100.000000</td>\n",
       "    </tr>\n",
       "  </tbody>\n",
       "</table>\n",
       "</div>"
      ],
      "text/plain": [
       "        acousticness   danceability   duration_ms         energy  \\\n",
       "count  111774.000000  111774.000000  1.117740e+05  111774.000000   \n",
       "mean        0.344021       0.577959  2.155524e+05       0.569467   \n",
       "std         0.347000       0.188435  1.197277e+05       0.260992   \n",
       "min         0.000000       0.000000  1.314700e+04       0.000000   \n",
       "25%         0.032600       0.454000  1.677672e+05       0.395000   \n",
       "50%         0.203000       0.599000  2.036045e+05       0.606000   \n",
       "75%         0.642000       0.722000  2.425312e+05       0.777000   \n",
       "max         0.996000       0.996000  5.040048e+06       1.000000   \n",
       "\n",
       "       instrumentalness       liveness       loudness    speechiness  \\\n",
       "count     111774.000000  111774.000000  111774.000000  111774.000000   \n",
       "mean           0.206224       0.194912      -9.831834       0.111265   \n",
       "std            0.348923       0.167262       6.545899       0.123257   \n",
       "min            0.000000       0.000000     -60.000000       0.000000   \n",
       "25%            0.000000       0.097500     -11.609000       0.038800   \n",
       "50%            0.000094       0.124000      -7.785000       0.055500   \n",
       "75%            0.287000       0.237000      -5.580000       0.128000   \n",
       "max            1.000000       0.999000       1.806000       0.966000   \n",
       "\n",
       "               tempo        valence     popularity  \n",
       "count  111774.000000  111774.000000  111774.000000  \n",
       "mean      119.474240       0.435165      28.300132  \n",
       "std        30.155886       0.255739      18.398418  \n",
       "min         0.000000       0.000000       1.000000  \n",
       "25%        95.899750       0.222000      14.000000  \n",
       "50%       120.014000       0.415000      26.000000  \n",
       "75%       139.869000       0.630000      41.000000  \n",
       "max       249.983000       1.000000     100.000000  "
      ]
     },
     "execution_count": 6,
     "metadata": {},
     "output_type": "execute_result"
    }
   ],
   "source": [
    "s = spotify_ordered\n",
    "\n",
    "s.describe()"
   ]
  },
  {
   "cell_type": "markdown",
   "metadata": {},
   "source": [
    "In addition to statistical moments, the above also gives a general idea of how each feature is structured. For example, many features range between 0 and 1, while others are less restricted. The loudness feature even ranges between negative and positive values."
   ]
  },
  {
   "cell_type": "markdown",
   "metadata": {},
   "source": [
    "<b>Focusing on the target variable</b>"
   ]
  },
  {
   "cell_type": "markdown",
   "metadata": {},
   "source": [
    "The .describe() method can also be used on specific variables."
   ]
  },
  {
   "cell_type": "code",
   "execution_count": 8,
   "metadata": {},
   "outputs": [
    {
     "data": {
      "text/html": [
       "<div>\n",
       "<style scoped>\n",
       "    .dataframe tbody tr th:only-of-type {\n",
       "        vertical-align: middle;\n",
       "    }\n",
       "\n",
       "    .dataframe tbody tr th {\n",
       "        vertical-align: top;\n",
       "    }\n",
       "\n",
       "    .dataframe thead th {\n",
       "        text-align: right;\n",
       "    }\n",
       "</style>\n",
       "<table border=\"1\" class=\"dataframe\">\n",
       "  <thead>\n",
       "    <tr style=\"text-align: right;\">\n",
       "      <th></th>\n",
       "      <th>popularity</th>\n",
       "    </tr>\n",
       "  </thead>\n",
       "  <tbody>\n",
       "    <tr>\n",
       "      <th>count</th>\n",
       "      <td>111774.000000</td>\n",
       "    </tr>\n",
       "    <tr>\n",
       "      <th>mean</th>\n",
       "      <td>28.300132</td>\n",
       "    </tr>\n",
       "    <tr>\n",
       "      <th>std</th>\n",
       "      <td>18.398418</td>\n",
       "    </tr>\n",
       "    <tr>\n",
       "      <th>min</th>\n",
       "      <td>1.000000</td>\n",
       "    </tr>\n",
       "    <tr>\n",
       "      <th>25%</th>\n",
       "      <td>14.000000</td>\n",
       "    </tr>\n",
       "    <tr>\n",
       "      <th>50%</th>\n",
       "      <td>26.000000</td>\n",
       "    </tr>\n",
       "    <tr>\n",
       "      <th>75%</th>\n",
       "      <td>41.000000</td>\n",
       "    </tr>\n",
       "    <tr>\n",
       "      <th>max</th>\n",
       "      <td>100.000000</td>\n",
       "    </tr>\n",
       "  </tbody>\n",
       "</table>\n",
       "</div>"
      ],
      "text/plain": [
       "          popularity\n",
       "count  111774.000000\n",
       "mean       28.300132\n",
       "std        18.398418\n",
       "min         1.000000\n",
       "25%        14.000000\n",
       "50%        26.000000\n",
       "75%        41.000000\n",
       "max       100.000000"
      ]
     },
     "execution_count": 8,
     "metadata": {},
     "output_type": "execute_result"
    }
   ],
   "source": [
    "s[['popularity']].describe()"
   ]
  },
  {
   "cell_type": "markdown",
   "metadata": {},
   "source": [
    "This gives a pretty consice overview of the target variable, popularity. One of the first things that stands out is that the mean and median both are in the 20s. This tells us right away that songs tend to have low popularity scores. Expanding this view, the Inter Quartile Range is from 14 and only extends to 41. Landing a half-way popular song with a score of only 50 would still be a fairly rare event. "
   ]
  },
  {
   "cell_type": "markdown",
   "metadata": {},
   "source": [
    "One thing .describe() doesn't mention is the mode."
   ]
  },
  {
   "cell_type": "code",
   "execution_count": 10,
   "metadata": {},
   "outputs": [
    {
     "data": {
      "text/plain": [
       "ModeResult(mode=array([1], dtype=int64), count=array([3217]))"
      ]
     },
     "execution_count": 10,
     "metadata": {},
     "output_type": "execute_result"
    }
   ],
   "source": [
    "from scipy import stats\n",
    "stats.mode(s.popularity)"
   ]
  },
  {
   "cell_type": "markdown",
   "metadata": {},
   "source": [
    "Somewhat unsurprisingly, the mode for popularity is a score of 1."
   ]
  },
  {
   "cell_type": "markdown",
   "metadata": {},
   "source": [
    "## Distribution of popularity"
   ]
  },
  {
   "cell_type": "markdown",
   "metadata": {},
   "source": [
    "Here's a visual of the popularity variable:"
   ]
  },
  {
   "cell_type": "code",
   "execution_count": 11,
   "metadata": {},
   "outputs": [
    {
     "data": {
      "image/png": "[encoded data removed]",
      "text/plain": [
       "<Figure size 576x360 with 1 Axes>"
      ]
     },
     "metadata": {
      "needs_background": "light"
     },
     "output_type": "display_data"
    }
   ],
   "source": [
    "# Inspect shape of popularity variable\n",
    "fig, ax = plt.subplots(1,1, figsize=(8,5))\n",
    "_ = spotify_ordered['popularity'].plot(kind='hist', bins=50)\n",
    "_ = plt.xlabel('Popularity')\n",
    "_ = plt.title('Popularity Distribution', fontsize=14)"
   ]
  },
  {
   "cell_type": "markdown",
   "metadata": {},
   "source": [
    "The shape hints at a normal shape, but does not appear to be actually normal given the right skew and the prevalence of the lower values. To further test this concept, we can compare the actual distribution to a theoretical normal cumulative density curve."
   ]
  },
  {
   "cell_type": "code",
   "execution_count": 42,
   "metadata": {},
   "outputs": [
    {
     "data": {
      "image/png": "[encoded data removed]",
      "text/plain": [
       "<Figure size 576x360 with 1 Axes>"
      ]
     },
     "metadata": {
      "needs_background": "light"
     },
     "output_type": "display_data"
    }
   ],
   "source": [
    "# Create theoretical values based on stats from popularity\n",
    "theoreticals = np.random.normal(28.3, 18.398, 10000)\n",
    "x_th = np.sort(theoreticals)\n",
    "y_th = np.arange(1, len(x_th) + 1) / len(x_th)\n",
    "\n",
    "x = np.sort(spotify_ordered.popularity)\n",
    "y = np.arange(1, len(x) + 1) / len(x)\n",
    "\n",
    "fig = plt.subplots(figsize=(8,5))\n",
    "_ = plt.plot(x_th, y_th)\n",
    "_ = plt.plot(x, y, marker='.', linestyle='none', ms=0.1)\n",
    "_ = plt.title('Actual curve vs. Normal curve', fontsize=14)"
   ]
  },
  {
   "cell_type": "markdown",
   "metadata": {},
   "source": [
    "The shape of the actual data is surprisingly close to the theoretical. The real difference is just the lack of negative values for the actual data, which means the lower tail is cut off."
   ]
  },
  {
   "cell_type": "markdown",
   "metadata": {},
   "source": [
    "Besides visualizations, we can also use packages to test the normality of the data. "
   ]
  },
  {
   "cell_type": "code",
   "execution_count": 27,
   "metadata": {},
   "outputs": [
    {
     "name": "stdout",
     "output_type": "stream",
     "text": [
      "0.0\n"
     ]
    }
   ],
   "source": [
    "import warnings\n",
    "warnings.simplefilter(\"ignore\", UserWarning)\n",
    "\n",
    "from scipy import stats\n",
    "\n",
    "stat, p = stats.shapiro(spotify_ordered.popularity)\n",
    "\n",
    "print(p)"
   ]
  },
  {
   "cell_type": "markdown",
   "metadata": {},
   "source": [
    "The above code tests the data assuming the distribution is normal. The low p-value suggests that that assumption should be rejected, and confirms the notion that the popularity variable is not normal."
   ]
  },
  {
   "cell_type": "markdown",
   "metadata": {},
   "source": [
    "<b>Checking Z-score of popular songs</b>"
   ]
  },
  {
   "cell_type": "code",
   "execution_count": 29,
   "metadata": {},
   "outputs": [
    {
     "data": {
      "text/plain": [
       "2.538254501540204"
      ]
     },
     "execution_count": 29,
     "metadata": {},
     "output_type": "execute_result"
    }
   ],
   "source": [
    "#find z-score for popular threshold\n",
    "pop = spotify_ordered['popularity']\n",
    "\n",
    "z_of_75 = (75 - pop.mean()) / pop.std()\n",
    "z_of_75"
   ]
  },
  {
   "cell_type": "markdown",
   "metadata": {},
   "source": [
    "## Exploring impact of song mode"
   ]
  },
  {
   "cell_type": "markdown",
   "metadata": {},
   "source": [
    "One thing to explore is whether or not a song's mode affects its popularity. There are many different types of modes, depending on the musical scales used, but they can generally be classified as either major or minor, and that is how they are handled in the Spotify data. In this case, minor is represented with a 0, while major is 1.<br>\n",
    "To explore this relationship, we can use inferential statistics to examine if the observed difference in popularity for each mode is significant."
   ]
  },
  {
   "cell_type": "code",
   "execution_count": 54,
   "metadata": {},
   "outputs": [
    {
     "name": "stdout",
     "output_type": "stream",
     "text": [
      "The average popularity for minor is: 28.706\n",
      "The average popularity for major is: 28.040\n",
      "The observed difference between the two is: 0.666\n"
     ]
    }
   ],
   "source": [
    "s = spotify_ordered\n",
    "\n",
    "# Split the dataset based on mode\n",
    "minor = s[s['mode'] == 0]\n",
    "major = s[s['mode'] == 1]\n",
    "\n",
    "# Find the average popularity for each split\n",
    "min_avg = np.mean(minor.popularity)\n",
    "maj_avg = np.mean(major.popularity)\n",
    "obs_diff = min_avg - maj_avg\n",
    "\n",
    "print('The average popularity for minor is: {num:.{dig}f}'.format(num=min_avg, dig=3))\n",
    "print('The average popularity for major is: {num:.{dig}f}'.format(num=maj_avg, dig=3))\n",
    "print('The observed difference between the two is: {num:.{dig}f}'.format(num=obs_diff, dig=3))"
   ]
  },
  {
   "cell_type": "markdown",
   "metadata": {},
   "source": [
    "From the observed results, songs with major tonality are, on average, slightly less popular. The use of hacker statistics can show the odds of getting a similar or more extreme result just by chance, which will help determine whether or not the observed result is significant. "
   ]
  },
  {
   "cell_type": "code",
   "execution_count": 48,
   "metadata": {},
   "outputs": [],
   "source": [
    "# Create empty array\n",
    "perm_diffs = np.empty(20000)\n",
    "\n",
    "# Randomly assign popularity scores to major and minor\n",
    "# average the values for each random group\n",
    "# Calculate difference in averages; repeat 20k times\n",
    "for i in range(20000):\n",
    "    concat = np.concatenate((minor.popularity, major.popularity))\n",
    "    permutation = np.random.permutation(concat)\n",
    "    perm_min = permutation[:len(minor)]\n",
    "    perm_maj = permutation[len(minor):]\n",
    "    perm_diffs[i] = (np.sum(perm_min) / len(perm_min)) - (np.sum(perm_maj) / len(perm_maj))"
   ]
  },
  {
   "cell_type": "code",
   "execution_count": 51,
   "metadata": {},
   "outputs": [
    {
     "data": {
      "text/plain": [
       "0"
      ]
     },
     "execution_count": 51,
     "metadata": {},
     "output_type": "execute_result"
    }
   ],
   "source": [
    "# Count the total number of times the random results matched or\n",
    "# exceeded the actual observed results\n",
    "count = np.sum(perm_diffs >= obs_diff)\n",
    "count"
   ]
  },
  {
   "cell_type": "markdown",
   "metadata": {},
   "source": [
    "Out of 20,000 random trials, there were zero results where the difference in average popularity between minor songs and major songs matched or exceeded the result observed in the actual data. A p-value doesn't need to be calculated to know that this means the observed result is significant.<br>\n",
    "I must admit that I'm surprised by this finding, as I would have guessed major tonality to be better suited for popular tastes. But that shows why it's important to analyze the data and test hypotheses."
   ]
  }
 ],
 "metadata": {
  "kernelspec": {
   "display_name": "Python 3",
   "language": "python",
   "name": "python3"
  },
  "language_info": {
   "codemirror_mode": {
    "name": "ipython",
    "version": 3
   },
   "file_extension": ".py",
   "mimetype": "text/x-python",
   "name": "python",
   "nbconvert_exporter": "python",
   "pygments_lexer": "ipython3",
   "version": "3.7.1"
  }
 },
 "nbformat": 4,
 "nbformat_minor": 2
}
